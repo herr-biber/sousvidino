{
 "cells": [
  {
   "cell_type": "code",
   "execution_count": 1,
   "metadata": {
    "collapsed": false
   },
   "outputs": [
    {
     "name": "stderr",
     "output_type": "stream",
     "text": [
      "/usr/lib/python2.7/site-packages/matplotlib/__init__.py:872: UserWarning: axes.color_cycle is deprecated and replaced with axes.prop_cycle; please use the latter.\n",
      "  warnings.warn(self.msg_depr % (key, alt_key))\n"
     ]
    },
    {
     "name": "stdout",
     "output_type": "stream",
     "text": [
      "Populating the interactive namespace from numpy and matplotlib\n"
     ]
    }
   ],
   "source": [
    "%pylab inline\n",
    "import serial\n",
    "from datetime import datetime\n",
    "import time\n",
    "import threading\n",
    "import json\n",
    "from collections import defaultdict\n",
    "import matplotlib\n",
    "# matplotlib.use('TkAgg') \n",
    "import matplotlib.pyplot as plt\n",
    "\n",
    "device = '/dev/serial/by-id/usb-Arduino__www.arduino.cc__0043_75439333635351A02202-if00'\n",
    "\n",
    "epoch = datetime.utcfromtimestamp(0)"
   ]
  },
  {
   "cell_type": "code",
   "execution_count": 2,
   "metadata": {
    "collapsed": false
   },
   "outputs": [],
   "source": [
    "s = serial.Serial(device, baudrate=115200, timeout=10)"
   ]
  },
  {
   "cell_type": "code",
   "execution_count": 3,
   "metadata": {
    "collapsed": false
   },
   "outputs": [],
   "source": [
    "received_data = []\n",
    "run_thread = True\n",
    "lock = threading.Lock()\n",
    "serial_lock = threading.Lock()"
   ]
  },
  {
   "cell_type": "code",
   "execution_count": 4,
   "metadata": {
    "collapsed": false
   },
   "outputs": [
    {
     "data": {
      "text/plain": [
       "'\\x96V)\\xe3q\\xf9\\xc7\\xff\\xee\\xf6\\xf0\\x1a\\x128\\x93\\xdd%\\xc9\"8^s\\xfb\\xd3\\xee\\xf6\\xf8\\x1d\\xb755\\xf3\\xfdn.-+%\\x8c5\\x9f\\xfe3-%\\x11\\x9c\\x8b\\'\\xfe-\\xabe\\x9c\\xb5\\x9f\\xffV+-\\x89u}\\xb5\\xde\\xff\\xeev\\xb8^Z\\x9e\\x9aO\\xfd\\xee~\\xa8RZ\\x9e\\xac\\xb3\\xfd\\'\\xc9\"8^s\\xfb\\xd3\\xab}4\\xa2Q\\x7f\\xf7\\xcdn>-+%\\x8c5\\xb6\\xfd\\xee\\xf6\\xf0\\x1a\\x1235\\xf3\\xfdV+-\\x89q}\\xb5\\xde\\xffX\\x96V)\\xe3q\\xf9\\xc7\\xff\\xee\\xf6\\xf0\\x1a\\x128\\x93\\xdd%\\xc9\"8^s\\xfb\\xd3\\xee\\xf6\\xf8\\x1d\\xb755\\xf3\\xfdn.-+%\\x8c5\\x9f\\xfe3-%\\x11\\x9c\\x8b\\'\\xfep=0;t0=85.00;t1=-127.00;t2=-127.00;sp=54.00;kp=30.00;ki=0.03;kd=0.00;output=0.00;autotune=0;loop_time=57\\n'"
      ]
     },
     "execution_count": 4,
     "metadata": {},
     "output_type": "execute_result"
    }
   ],
   "source": [
    "s.readline()\n",
    "#s.flushInput()"
   ]
  },
  {
   "cell_type": "code",
   "execution_count": 5,
   "metadata": {
    "collapsed": false
   },
   "outputs": [],
   "source": [
    "def append_serial_data():\n",
    "    global s\n",
    "    global received_data\n",
    "    global lock\n",
    "    global run_thread\n",
    "    # set([u'loop_time', u'ki', u'sp', u't2', u't0', u't1', u'p', u'autotune', u'kd', u'output', u'kp'])\n",
    "\n",
    "    while run_thread:\n",
    "        serial_lock.acquire()\n",
    "        line = s.readline()\n",
    "        if not line:\n",
    "            continue\n",
    "        serial_lock.release()\n",
    "        stamp = datetime.now()\n",
    "        \n",
    "        tokens = line[:-1].split(';')\n",
    "        tuples = [t.split('=') for t in tokens]\n",
    "        try:\n",
    "            params = {t[0]:float(t[1]) for t in tuples}\n",
    "\n",
    "            lock.acquire()\n",
    "            received_data.append((stamp, params))\n",
    "            lock.release()\n",
    "            time.sleep(0.1)\n",
    "        except:\n",
    "            print tuples"
   ]
  },
  {
   "cell_type": "code",
   "execution_count": 6,
   "metadata": {
    "collapsed": false
   },
   "outputs": [],
   "source": [
    "thread = threading.Thread(target=append_serial_data)\n",
    "thread.start()\n"
   ]
  },
  {
   "cell_type": "code",
   "execution_count": 7,
   "metadata": {
    "collapsed": false
   },
   "outputs": [
    {
     "data": {
      "text/plain": [
       "(0, True)"
      ]
     },
     "execution_count": 7,
     "metadata": {},
     "output_type": "execute_result"
    }
   ],
   "source": [
    "len(received_data), run_thread"
   ]
  },
  {
   "cell_type": "code",
   "execution_count": null,
   "metadata": {
    "collapsed": false
   },
   "outputs": [],
   "source": []
  },
  {
   "cell_type": "code",
   "execution_count": 8,
   "metadata": {
    "collapsed": false
   },
   "outputs": [
    {
     "data": {
      "text/plain": [
       "[(datetime.datetime(2016, 7, 23, 12, 33, 48, 300762),\n",
       "  {'autotune': 0.0,\n",
       "   'kd': 0.0,\n",
       "   'ki': 0.03,\n",
       "   'kp': 30.0,\n",
       "   'loop_time': 58.0,\n",
       "   'output': 0.0,\n",
       "   'p': 0.0,\n",
       "   'sp': 54.0,\n",
       "   't0': 47.38,\n",
       "   't1': -127.0,\n",
       "   't2': -127.0}),\n",
       " (datetime.datetime(2016, 7, 23, 12, 33, 48, 902647),\n",
       "  {'autotune': 0.0,\n",
       "   'kd': 0.0,\n",
       "   'ki': 0.03,\n",
       "   'kp': 30.0,\n",
       "   'loop_time': 58.0,\n",
       "   'output': 0.0,\n",
       "   'p': 0.0,\n",
       "   'sp': 54.0,\n",
       "   't0': 47.38,\n",
       "   't1': -127.0,\n",
       "   't2': -127.0}),\n",
       " (datetime.datetime(2016, 7, 23, 12, 33, 49, 504624),\n",
       "  {'autotune': 0.0,\n",
       "   'kd': 0.0,\n",
       "   'ki': 0.03,\n",
       "   'kp': 30.0,\n",
       "   'loop_time': 59.0,\n",
       "   'output': 0.0,\n",
       "   'p': 0.0,\n",
       "   'sp': 54.0,\n",
       "   't0': 47.44,\n",
       "   't1': -127.0,\n",
       "   't2': -127.0})]"
      ]
     },
     "execution_count": 8,
     "metadata": {},
     "output_type": "execute_result"
    }
   ],
   "source": [
    "#s.write('p:0\\n')\n",
    "# run_thread = False\n",
    "received_data"
   ]
  },
  {
   "cell_type": "code",
   "execution_count": 9,
   "metadata": {
    "collapsed": false
   },
   "outputs": [],
   "source": [
    "def write_out_data():\n",
    "    global received_data\n",
    "    global lock\n",
    "    global run_thread\n",
    "    while run_thread:\n",
    "        lock.acquire()\n",
    "        rd = received_data[:] # copy\n",
    "        lock.release()\n",
    "        with open('current-data.json', 'w') as fp:\n",
    "            json.dump([((d[0] - epoch).total_seconds(), d[1]) for d in rd], fp, indent=4, sort_keys=True)\n",
    "        time.sleep(1)\n",
    "        "
   ]
  },
  {
   "cell_type": "code",
   "execution_count": 10,
   "metadata": {
    "collapsed": false
   },
   "outputs": [],
   "source": [
    "thread2 = threading.Thread(target=write_out_data)\n",
    "thread2.start()"
   ]
  },
  {
   "cell_type": "code",
   "execution_count": 11,
   "metadata": {
    "collapsed": false
   },
   "outputs": [],
   "source": [
    "lock.acquire()\n",
    "timestamps, dicts = zip(*received_data)\n",
    "lock.release()\n",
    "vals = defaultdict(list)\n",
    "for d in dicts:\n",
    "    for k,v in d.iteritems():\n",
    "        vals[k].append(v)"
   ]
  },
  {
   "cell_type": "code",
   "execution_count": null,
   "metadata": {
    "collapsed": true
   },
   "outputs": [],
   "source": [
    "## t0 = timestamps[0]\n",
    "seconds_since_epoch = [(t - epoch).total_seconds() for t in timestamps]\n",
    "relative_seconds = [(t - t0).total_seconds() for t in timestamps]\n",
    "\n",
    "# plt.ion()\n",
    "fig, ax = plt.subplots(figsize=(17,6))\n",
    "ax.plot(relative_seconds, vals['t0'], color='r')\n",
    "ax2 = ax.twinx()\n",
    "# ax2.bar(relative_seconds, vals['output'], color='y')\n",
    "ax2.plot(relative_seconds, vals['kp'], color='g')\n",
    "ax2.set_ylim(bottom=0, top= 6)\n",
    "\n",
    "# ax.set_ylim(bottom=0)"
   ]
  },
  {
   "cell_type": "code",
   "execution_count": 1,
   "metadata": {
    "collapsed": false
   },
   "outputs": [
    {
     "ename": "NameError",
     "evalue": "name 'received_data' is not defined",
     "output_type": "error",
     "traceback": [
      "\u001b[1;31m---------------------------------------------------------------------------\u001b[0m",
      "\u001b[1;31mNameError\u001b[0m                                 Traceback (most recent call last)",
      "\u001b[1;32m<ipython-input-1-7088e10579dc>\u001b[0m in \u001b[0;36m<module>\u001b[1;34m()\u001b[0m\n\u001b[1;32m----> 1\u001b[1;33m \u001b[0mlen\u001b[0m\u001b[1;33m(\u001b[0m\u001b[0mreceived_data\u001b[0m\u001b[1;33m)\u001b[0m\u001b[1;33m\u001b[0m\u001b[0m\n\u001b[0m",
      "\u001b[1;31mNameError\u001b[0m: name 'received_data' is not defined"
     ]
    }
   ],
   "source": [
    "len(received_data)"
   ]
  },
  {
   "cell_type": "code",
   "execution_count": null,
   "metadata": {
    "collapsed": false
   },
   "outputs": [],
   "source": [
    "mean(vals['t0']), std(vals['t0'])"
   ]
  },
  {
   "cell_type": "code",
   "execution_count": null,
   "metadata": {
    "collapsed": true
   },
   "outputs": [],
   "source": []
  },
  {
   "cell_type": "code",
   "execution_count": null,
   "metadata": {
    "collapsed": false
   },
   "outputs": [],
   "source": [
    "lock.acquire()\n",
    "s.write('kp=4.1\\n')\n",
    "lock.release()"
   ]
  },
  {
   "cell_type": "code",
   "execution_count": 12,
   "metadata": {
    "collapsed": false
   },
   "outputs": [],
   "source": [
    "lock.acquire()\n",
    "s.write('ki=0.03\\n')\n",
    "lock.release()"
   ]
  },
  {
   "cell_type": "code",
   "execution_count": null,
   "metadata": {
    "collapsed": true
   },
   "outputs": [],
   "source": [
    "lock.acquire()\n",
    "s.write('kd=3.0\\n')\n",
    "lock.release()"
   ]
  },
  {
   "cell_type": "code",
   "execution_count": 80,
   "metadata": {
    "collapsed": true
   },
   "outputs": [],
   "source": [
    "lock.acquire()\n",
    "s.write('sp=39.7\\n')\n",
    "lock.release()"
   ]
  },
  {
   "cell_type": "code",
   "execution_count": null,
   "metadata": {
    "collapsed": false
   },
   "outputs": [],
   "source": [
    "run_thread = True\n",
    "thread.join()"
   ]
  },
  {
   "cell_type": "code",
   "execution_count": null,
   "metadata": {
    "collapsed": false
   },
   "outputs": [],
   "source": [
    "run_thread"
   ]
  },
  {
   "cell_type": "code",
   "execution_count": null,
   "metadata": {
    "collapsed": true
   },
   "outputs": [],
   "source": [
    "lock.acquire()\n",
    "s.write('kp:0.5\\n')\n",
    "lock.release()"
   ]
  },
  {
   "cell_type": "code",
   "execution_count": null,
   "metadata": {
    "collapsed": true
   },
   "outputs": [],
   "source": [
    "lock.acquire()\n",
    "s.write('ki:0.5\\n')\n",
    "lock.release()"
   ]
  },
  {
   "cell_type": "code",
   "execution_count": null,
   "metadata": {
    "collapsed": true
   },
   "outputs": [],
   "source": []
  },
  {
   "cell_type": "code",
   "execution_count": null,
   "metadata": {
    "collapsed": true
   },
   "outputs": [],
   "source": []
  }
 ],
 "metadata": {
  "kernelspec": {
   "display_name": "Python 2",
   "language": "python2",
   "name": "python2"
  },
  "language_info": {
   "codemirror_mode": {
    "name": "ipython",
    "version": 2
   },
   "file_extension": ".py",
   "mimetype": "text/x-python",
   "name": "python",
   "nbconvert_exporter": "python",
   "pygments_lexer": "ipython2",
   "version": "2.7.12"
  }
 },
 "nbformat": 4,
 "nbformat_minor": 0
}
