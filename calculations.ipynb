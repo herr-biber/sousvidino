{
 "cells": [
  {
   "cell_type": "code",
   "execution_count": 8,
   "metadata": {
    "collapsed": true
   },
   "outputs": [],
   "source": [
    "import math"
   ]
  },
  {
   "cell_type": "markdown",
   "metadata": {
    "collapsed": true
   },
   "source": [
    "### Arduino\n",
    "[Uno R3 schematic](http://www.arduino.cc/de/uploads/Main/Arduino_Uno_Rev3-schematic.pdf)\n",
    "\n",
    "[atmega datasheet](http://www.atmel.com/images/Atmel-8271-8-bit-AVR-Microcontroller-ATmega48A-48PA-88A-88PA-168A-168PA-328-328P_datasheet_Complete.pdf)"
   ]
  },
  {
   "cell_type": "markdown",
   "metadata": {},
   "source": [
    "### Zero-crossing detector"
   ]
  },
  {
   "cell_type": "markdown",
   "metadata": {},
   "source": [
    "AC optocoupler PC824\n",
    "[datasheet](https://www.pollin.de/shop/downloads/D121107D.PDF)\n",
    "\n",
    "http://playground.arduino.cc/Main/ACPhaseControl\n",
    "\n",
    "Choose input current of 5mA according to Fig. 5 in datasheet:"
   ]
  },
  {
   "cell_type": "code",
   "execution_count": 3,
   "metadata": {
    "collapsed": false
   },
   "outputs": [
    {
     "data": {
      "text/plain": [
       "0.005185449728701348"
      ]
     },
     "execution_count": 3,
     "metadata": {},
     "output_type": "execute_result"
    }
   ],
   "source": [
    "# LED current used in AC phase control at 110V \n",
    "# I = U / R\n",
    "math.sqrt(2) * 110 / (2 * 15e3)"
   ]
  },
  {
   "cell_type": "code",
   "execution_count": 4,
   "metadata": {
    "collapsed": true
   },
   "outputs": [],
   "source": [
    "# using the same LED current\n",
    "i_f = 5e-3"
   ]
  },
  {
   "cell_type": "markdown",
   "metadata": {},
   "source": [
    "230V input voltage. \n",
    "\n",
    "Background information on calculating input resistances:\n",
    "https://electronics.stackexchange.com/questions/33042/how-do-i-select-the-accompanying-components-for-an-optocoupler"
   ]
  },
  {
   "cell_type": "code",
   "execution_count": 5,
   "metadata": {
    "collapsed": false
   },
   "outputs": [
    {
     "data": {
      "text/plain": [
       "325.2691193458119"
      ]
     },
     "execution_count": 5,
     "metadata": {},
     "output_type": "execute_result"
    }
   ],
   "source": [
    "u_ac = 230\n",
    "u_peak = math.sqrt(2) * u_ac\n",
    "u_peak"
   ]
  },
  {
   "cell_type": "markdown",
   "metadata": {},
   "source": [
    "Input resistor size"
   ]
  },
  {
   "cell_type": "code",
   "execution_count": 6,
   "metadata": {
    "collapsed": false
   },
   "outputs": [
    {
     "data": {
      "text/plain": [
       "65053.82386916237"
      ]
     },
     "execution_count": 6,
     "metadata": {},
     "output_type": "execute_result"
    }
   ],
   "source": [
    "r = u_peak / i_f\n",
    "r"
   ]
  },
  {
   "cell_type": "code",
   "execution_count": 7,
   "metadata": {
    "collapsed": true
   },
   "outputs": [],
   "source": [
    "#Using 2 resistors of 33k\n",
    "r = 12e3"
   ]
  },
  {
   "cell_type": "code",
   "execution_count": 8,
   "metadata": {
    "collapsed": false
   },
   "outputs": [
    {
     "data": {
      "text/plain": [
       "0.013552879972742161"
      ]
     },
     "execution_count": 8,
     "metadata": {},
     "output_type": "execute_result"
    }
   ],
   "source": [
    "i_f = u_peak / (2 * r)\n",
    "i_f"
   ]
  },
  {
   "cell_type": "code",
   "execution_count": 9,
   "metadata": {
    "collapsed": false
   },
   "outputs": [
    {
     "data": {
      "text/plain": [
       "2.2041666666666666"
      ]
     },
     "execution_count": 9,
     "metadata": {},
     "output_type": "execute_result"
    }
   ],
   "source": [
    "# power consumption\n",
    "# P = U * I\n",
    "# P = U^2 / R\n",
    "p = u_ac**2 / (2*r)\n",
    "p"
   ]
  },
  {
   "cell_type": "markdown",
   "metadata": {},
   "source": [
    "so 2 resistors of 33k, 0.5W should be fine"
   ]
  },
  {
   "cell_type": "markdown",
   "metadata": {},
   "source": [
    "### solid state relay"
   ]
  },
  {
   "cell_type": "markdown",
   "metadata": {},
   "source": [
    "[datasheet](http://www.pollin.de/shop/downloads/D340470D.PDF)\n",
    "\n",
    "[china datasheet](http://www.chinaxuruien.com/product-129.html)\n",
    "built-in zero crossing detector"
   ]
  },
  {
   "cell_type": "code",
   "execution_count": 1,
   "metadata": {
    "collapsed": false
   },
   "outputs": [
    {
     "data": {
      "text/plain": [
       "0.027083333333333334"
      ]
     },
     "execution_count": 1,
     "metadata": {},
     "output_type": "execute_result"
    }
   ],
   "source": [
    "325./12e3"
   ]
  },
  {
   "cell_type": "code",
   "execution_count": null,
   "metadata": {
    "collapsed": true
   },
   "outputs": [],
   "source": []
  },
  {
   "cell_type": "markdown",
   "metadata": {},
   "source": [
    "### interrupt timing"
   ]
  },
  {
   "cell_type": "code",
   "execution_count": 3,
   "metadata": {
    "collapsed": true
   },
   "outputs": [],
   "source": [
    "avr_frequency = 16e6\n",
    "uint16_max = 2**16-1\n",
    "ac_frequency = 50"
   ]
  },
  {
   "cell_type": "code",
   "execution_count": 4,
   "metadata": {
    "collapsed": false
   },
   "outputs": [
    {
     "data": {
      "text/plain": [
       "6.25e-08"
      ]
     },
     "execution_count": 4,
     "metadata": {},
     "output_type": "execute_result"
    }
   ],
   "source": [
    "cycle_time = 1./avr_frequency\n",
    "cycle_time"
   ]
  },
  {
   "cell_type": "code",
   "execution_count": 5,
   "metadata": {
    "collapsed": false,
    "scrolled": true
   },
   "outputs": [
    {
     "data": {
      "text/plain": [
       "0.01"
      ]
     },
     "execution_count": 5,
     "metadata": {},
     "output_type": "execute_result"
    }
   ],
   "source": [
    "ac_halfwave_time = (1./(2*ac_frequency))\n",
    "ac_halfwave_time"
   ]
  },
  {
   "cell_type": "code",
   "execution_count": 6,
   "metadata": {
    "collapsed": false
   },
   "outputs": [
    {
     "data": {
      "text/plain": [
       "160000.0"
      ]
     },
     "execution_count": 6,
     "metadata": {},
     "output_type": "execute_result"
    }
   ],
   "source": [
    "cycles_per_half_wave = ac_halfwave_time / cycle_time\n",
    "cycles_per_half_wave"
   ]
  },
  {
   "cell_type": "code",
   "execution_count": 10,
   "metadata": {
    "collapsed": false
   },
   "outputs": [
    {
     "data": {
      "text/plain": [
       "4"
      ]
     },
     "execution_count": 10,
     "metadata": {},
     "output_type": "execute_result"
    }
   ],
   "source": [
    "divisor = cycles_per_half_wave / uint16_max\n",
    "min_pow2_divisor = 2**int(math.ceil(math.log(divisor,2)))\n",
    "min_pow2_divisor"
   ]
  },
  {
   "cell_type": "code",
   "execution_count": 21,
   "metadata": {
    "collapsed": false
   },
   "outputs": [
    {
     "data": {
      "text/plain": [
       "1250.0"
      ]
     },
     "execution_count": 21,
     "metadata": {},
     "output_type": "execute_result"
    }
   ],
   "source": [
    "2 * cycles_per_half_wave / 256"
   ]
  },
  {
   "cell_type": "code",
   "execution_count": 22,
   "metadata": {
    "collapsed": false
   },
   "outputs": [
    {
     "data": {
      "text/plain": [
       "625.0"
      ]
     },
     "execution_count": 22,
     "metadata": {},
     "output_type": "execute_result"
    }
   ],
   "source": [
    "0.01 / (cycle_time * 256)"
   ]
  },
  {
   "cell_type": "code",
   "execution_count": 24,
   "metadata": {
    "collapsed": false
   },
   "outputs": [
    {
     "data": {
      "text/plain": [
       "52"
      ]
     },
     "execution_count": 24,
     "metadata": {},
     "output_type": "execute_result"
    }
   ],
   "source": [
    "2**16 / 1250"
   ]
  },
  {
   "cell_type": "markdown",
   "metadata": {},
   "source": [
    "### keypad shield"
   ]
  },
  {
   "cell_type": "markdown",
   "metadata": {},
   "source": [
    "[datasheet](http://www.arduino-projekte.de/index.php?n=25)\n",
    "\n",
    "[datasheet](http://www.exp-tech.de/media/archive/gm/service/datasheet/LCD1602shield.pdf)\n",
    "\n",
    "[datasheet](http://www.discoveringelectronics.com/Downloads/Sain-Smart-LCD-Keypad-Shield-v1.0-Pinout.pdf)"
   ]
  },
  {
   "cell_type": "markdown",
   "metadata": {
    "collapsed": true
   },
   "source": [
    "### ds18b20"
   ]
  },
  {
   "cell_type": "markdown",
   "metadata": {},
   "source": [
    "#### get addresses"
   ]
  },
  {
   "cell_type": "markdown",
   "metadata": {},
   "source": [
    "/* YourDuino Example: Find Address of a DS18B20 Temperature Sensor\n",
    " Cut and paste the address to a text file for later use.\n",
    " V1.1 01/17/2013\n",
    " Questions: terry@yourduino.com \n",
    " \n",
    " Connections:\n",
    " DS18B20 Pinout (Left to Right, pins down, flat side toward you)\n",
    " - Left   = Ground\n",
    " - Center = Signal (Pin 2):  (with 3.3K to 4.7K resistor to +5 or 3.3 )\n",
    " - Right  = +5 or +3.3 V   \n",
    " This sketch looks for 1-wire devices and  prints their addresses (serial number)\n",
    " to the Serial Monitor in a format that is useful in Arduino sketches.\n",
    " Based on example at: \n",
    " http://www.hacktronics.com/Tutorials/arduino-1-wire-address-finder.html\n",
    " */\n",
    "\n",
    "/*-----( Import needed libraries )-----*/\n",
    "#include <OneWire.h>\n",
    "\n",
    "/*-----( Declare Constants and Pin Numbers )-----*/\n",
    "#define SENSOR_PIN 11  // Any pin 2 to 12 (not 13) and A0 to A5\n",
    "\n",
    "/*-----( Declare objects )-----*/\n",
    "OneWire  ourBus(SENSOR_PIN);  // Create a 1-wire object\n",
    "\n",
    "void setup()  /****** SETUP: RUNS ONCE ******/\n",
    "{\n",
    "  Serial.begin(9600);\n",
    " \n",
    "  discoverOneWireDevices();  // Everything happens here!\n",
    "}//--(end setup )---\n",
    "\n",
    "void loop()   /****** LOOP: RUNS CONSTANTLY ******/\n",
    "{\n",
    "  // Nothing happening here\n",
    "}\n",
    "\n",
    "/*-----( Declare User-written Functions )-----*/\n",
    "void discoverOneWireDevices(void) {\n",
    "  byte i;\n",
    "  byte present = 0;\n",
    "  byte data[12];\n",
    "  byte addr[8];\n",
    "\n",
    "  Serial.print(\"Looking for 1-Wire devices...\\n\\r\");// \"\\n\\r\" is NewLine \n",
    "  while(ourBus.search(addr)) {\n",
    "    Serial.print(\"\\n\\r\\n\\rFound \\'1-Wire\\' device with address:\\n\\r\");\n",
    "    for( i = 0; i < 8; i++) {\n",
    "      Serial.print(\"0x\");\n",
    "      if (addr[i] < 16) {\n",
    "        Serial.print('0');\n",
    "      }\n",
    "      Serial.print(addr[i], HEX);\n",
    "      if (i < 7) {\n",
    "        Serial.print(\", \");\n",
    "      }\n",
    "    }\n",
    "    if ( OneWire::crc8( addr, 7) != addr[7]) {\n",
    "      Serial.print(\"CRC is not valid!\\n\\r\");\n",
    "      return;\n",
    "    }\n",
    "  }\n",
    "  Serial.println();\n",
    "  Serial.print(\"Done\");\n",
    "  ourBus.reset_search();\n",
    "  return;\n",
    "}"
   ]
  },
  {
   "cell_type": "markdown",
   "metadata": {},
   "source": [
    "My sensors\n",
    "\n",
    "```0: 0x28, 0xFF, 0x24, 0x79, 0x01, 0x15, 0x02, 0x90\n",
    "1: 0x28, 0xFF, 0x95, 0x94, 0x01, 0x15, 0x02, 0xC6\n",
    "2: 0x28, 0xFF, 0xE7, 0x57, 0x01, 0x15, 0x02, 0x99```"
   ]
  },
  {
   "cell_type": "markdown",
   "metadata": {
    "collapsed": true
   },
   "source": [
    "Temperature sensors connected to pin 21\n",
    "currently connected sensor 0\n"
   ]
  },
  {
   "cell_type": "markdown",
   "metadata": {
    "collapsed": true
   },
   "source": [
    "sensor 0: water\n",
    "opt sensor 1: meat"
   ]
  },
  {
   "cell_type": "markdown",
   "metadata": {
    "collapsed": true
   },
   "source": [
    "```\n",
    "/dev/serial/by-id$ stty -F usb-Arduino__www.arduino.cc__0043_75439333635351A02202-if00 -a\n",
    "speed 115200 baud; rows 0; columns 0; line = 0;\n",
    "intr = ^C; quit = ^\\; erase = ^?; kill = ^U; eof = ^D; eol = <undef>; eol2 = <undef>;\n",
    "swtch = <undef>; start = ^Q; stop = ^S; susp = ^Z; rprnt = ^R; werase = ^W; lnext = ^V;\n",
    "discard = ^O; min = 1; time = 0;\n",
    "-parenb -parodd -cmspar cs8 hupcl -cstopb cread clocal -crtscts\n",
    "-ignbrk -brkint -ignpar -parmrk -inpck -istrip -inlcr -igncr icrnl ixon -ixoff -iuclc -ixany\n",
    "-imaxbel -iutf8\n",
    "opost -olcuc -ocrnl -onlcr -onocr -onlret -ofill -ofdel nl0 cr0 tab0 bs0 vt0 ff0\n",
    "isig icanon iexten -echo echoe echok -echonl -noflsh -xcase -tostop -echoprt echoctl echoke\n",
    "-flusho -extproc\n",
    "```"
   ]
  },
  {
   "cell_type": "code",
   "execution_count": null,
   "metadata": {
    "collapsed": true
   },
   "outputs": [],
   "source": []
  }
 ],
 "metadata": {
  "kernelspec": {
   "display_name": "Python 2",
   "language": "python2",
   "name": "python2"
  },
  "language_info": {
   "codemirror_mode": {
    "name": "ipython",
    "version": 2
   },
   "file_extension": ".py",
   "mimetype": "text/x-python",
   "name": "python",
   "nbconvert_exporter": "python",
   "pygments_lexer": "ipython2",
   "version": "2.7.11"
  }
 },
 "nbformat": 4,
 "nbformat_minor": 0
}
